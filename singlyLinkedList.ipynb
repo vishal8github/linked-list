{
 "cells": [
  {
   "cell_type": "code",
   "execution_count": 2,
   "id": "c1bada34-c8db-4964-9c44-6a2d188edec8",
   "metadata": {},
   "outputs": [],
   "source": [
    "class Node:\n",
    "    #constructor\n",
    "    def __init__(self):\n",
    "        self.data = None\n",
    "        self.nextNode = None\n",
    "    \n",
    "    #method for setting the data of the node\n",
    "    def setData(self, data):\n",
    "        self.data = data\n",
    "    #method for getting the data of the node\n",
    "    def getData(self):\n",
    "        return self.data\n",
    "    \n",
    "    #method for setting the nextNode of the node\n",
    "    def setNextNode(self, nextNode):\n",
    "        self.nextNode = nextNode\n",
    "    #method for getting the nextNode of the node\n",
    "    def getNextNode(self):\n",
    "        return self.nextNode\n",
    "    \n",
    "    #return true if the node points to another node\n",
    "    def hasNext(self):\n",
    "        return self.nextNode != None\n",
    "    \n",
    "    #method takes a linked list as input and counts the number of nodes in the list\n",
    "    def listLength(self):\n",
    "        current = node1\n",
    "        count = 0\n",
    "        while current != None:\n",
    "            count += 1\n",
    "            current = current.getNextNode()\n",
    "        return count\n",
    "    \n",
    "    #method for inserting a new node at the beginning of the linked list (at the head)\n",
    "    def insertAtBeginning(self, data):\n",
    "        newNode = Node()\n",
    "        newNode.setData(data)\n",
    "        if self.lentgth == 0:\n",
    "            self.head = newNode\n",
    "        else:\n",
    "            newNode.setNextNode(self.head)\n",
    "            self.head = newNode\n",
    "        self.length += 1"
   ]
  },
  {
   "cell_type": "code",
   "execution_count": 3,
   "id": "2db414c3-5eb8-4ec7-ba12-a7445976d7f1",
   "metadata": {},
   "outputs": [],
   "source": [
    "#creating the node\n",
    "head = Node()\n",
    "node1 = Node()\n",
    "node2 = Node()\n",
    "node3 = Node()\n",
    "node4 = Node()\n",
    "node5 = Node()"
   ]
  },
  {
   "cell_type": "code",
   "execution_count": 4,
   "id": "62699365-5774-4059-89e6-672e0a5dd4be",
   "metadata": {},
   "outputs": [
    {
     "name": "stdout",
     "output_type": "stream",
     "text": [
      "node1:  101\n",
      "node2:  202\n",
      "node3:  303\n",
      "node4:  404\n",
      "node5:  505\n"
     ]
    }
   ],
   "source": [
    "#setting data and nextNode of the node\n",
    "head.setNextNode(node1)\n",
    "\n",
    "node1.setData(101)\n",
    "node1.setNextNode(node2)\n",
    "print(\"node1: \", node1.data)\n",
    "\n",
    "node2.setData(202)\n",
    "node2.setNextNode(node3)\n",
    "print(\"node2: \", node2.data)\n",
    "\n",
    "node3.setData(303)\n",
    "node3.setNextNode(node4)\n",
    "print(\"node3: \", node3.data)\n",
    "\n",
    "node4.setData(404)\n",
    "node4.setNextNode(node5)\n",
    "print(\"node4: \", node4.data)\n",
    "\n",
    "node5.setData(505)\n",
    "print(\"node5: \", node5.data)"
   ]
  },
  {
   "cell_type": "code",
   "execution_count": 5,
   "id": "f8d8df34-d941-42b6-9a5b-d8740aa98143",
   "metadata": {},
   "outputs": [
    {
     "name": "stdout",
     "output_type": "stream",
     "text": [
      "Total number of nodes:  5\n"
     ]
    }
   ],
   "source": [
    "print(\"Total number of nodes: \", node1.listLength())"
   ]
  }
 ],
 "metadata": {
  "kernelspec": {
   "display_name": "Python 3 (ipykernel)",
   "language": "python",
   "name": "python3"
  },
  "language_info": {
   "codemirror_mode": {
    "name": "ipython",
    "version": 3
   },
   "file_extension": ".py",
   "mimetype": "text/x-python",
   "name": "python",
   "nbconvert_exporter": "python",
   "pygments_lexer": "ipython3",
   "version": "3.10.5"
  }
 },
 "nbformat": 4,
 "nbformat_minor": 5
}
